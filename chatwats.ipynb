{
 "cells": [
  {
   "cell_type": "code",
   "execution_count": 6,
   "metadata": {},
   "outputs": [],
   "source": [
    "text = ''' \n",
    "19/10/2021, 10:13 p. m. - Yahir: <Multimedia omitido>\n",
    "19/10/2021, 10:13 p. m. - Ahora eres admin. del grupo.\n",
    "19/10/2021, 10:14 p. m. - Criz: <Multimedia omitido>\n",
    "19/10/2021, 10:14 p. m. - Yahir: <Multimedia omitido>\n",
    "19/10/2021, 10:15 p. m. - Gera: Sadge\n",
    "19/10/2021, 10:15 p. m. - Gera: Y se vienen cosas peores, dice la biblia\n",
    "19/10/2021, 10:27 p. m. - Gera: Que pedo banda, cuando nos aventamos el houseki?\n",
    "19/10/2021, 10:27 p. m. - Criz: Al chile de una\n",
    "19/10/2021, 10:28 p. m. - Gera: Arre\n",
    "19/10/2021, 10:28 p. m. - Gera: Tú si puedes Yahir?\n",
    "19/10/2021, 10:29 p. m. - Yahir: Voy a las 11 va?\n",
    "19/10/2021, 10:31 p. m. - Cambiaste el ícono del grupo.\n",
    "19/10/2021, 10:31 p. m. - Gera: Vava\n",
    "19/10/2021, 10:31 p. m. - Criz: Va\n",
    "19/10/2021, 10:32 p. m. - Yahir: Va '''"
   ]
  },
  {
   "cell_type": "code",
   "execution_count": 27,
   "metadata": {},
   "outputs": [],
   "source": [
    "import pandas as pd\n",
    "import re\n",
    "\n",
    "pattern = r'(\\d{2}/\\d{2}/\\d{4}), (\\d{1,2}:\\d{2}\\s*[ap]\\.?\\s*m\\.?) - (.*?): (.*)'\n",
    "matches = re.findall(pattern, text)\n",
    "\n"
   ]
  },
  {
   "cell_type": "code",
   "execution_count": 28,
   "metadata": {},
   "outputs": [
    {
     "data": {
      "text/html": [
       "<div>\n",
       "<style scoped>\n",
       "    .dataframe tbody tr th:only-of-type {\n",
       "        vertical-align: middle;\n",
       "    }\n",
       "\n",
       "    .dataframe tbody tr th {\n",
       "        vertical-align: top;\n",
       "    }\n",
       "\n",
       "    .dataframe thead th {\n",
       "        text-align: right;\n",
       "    }\n",
       "</style>\n",
       "<table border=\"1\" class=\"dataframe\">\n",
       "  <thead>\n",
       "    <tr style=\"text-align: right;\">\n",
       "      <th></th>\n",
       "      <th>Date</th>\n",
       "      <th>Time</th>\n",
       "      <th>User</th>\n",
       "      <th>Message</th>\n",
       "    </tr>\n",
       "  </thead>\n",
       "  <tbody>\n",
       "    <tr>\n",
       "      <th>0</th>\n",
       "      <td>19/10/2021</td>\n",
       "      <td>10:13 p. m.</td>\n",
       "      <td>Yahir</td>\n",
       "      <td>&lt;Multimedia omitido&gt;</td>\n",
       "    </tr>\n",
       "    <tr>\n",
       "      <th>1</th>\n",
       "      <td>19/10/2021</td>\n",
       "      <td>10:14 p. m.</td>\n",
       "      <td>Criz</td>\n",
       "      <td>&lt;Multimedia omitido&gt;</td>\n",
       "    </tr>\n",
       "    <tr>\n",
       "      <th>2</th>\n",
       "      <td>19/10/2021</td>\n",
       "      <td>10:14 p. m.</td>\n",
       "      <td>Yahir</td>\n",
       "      <td>&lt;Multimedia omitido&gt;</td>\n",
       "    </tr>\n",
       "    <tr>\n",
       "      <th>3</th>\n",
       "      <td>19/10/2021</td>\n",
       "      <td>10:15 p. m.</td>\n",
       "      <td>Gera</td>\n",
       "      <td>Sadge</td>\n",
       "    </tr>\n",
       "    <tr>\n",
       "      <th>4</th>\n",
       "      <td>19/10/2021</td>\n",
       "      <td>10:15 p. m.</td>\n",
       "      <td>Gera</td>\n",
       "      <td>Y se vienen cosas peores, dice la biblia</td>\n",
       "    </tr>\n",
       "  </tbody>\n",
       "</table>\n",
       "</div>"
      ],
      "text/plain": [
       "         Date         Time   User                                   Message\n",
       "0  19/10/2021  10:13 p. m.  Yahir                      <Multimedia omitido>\n",
       "1  19/10/2021  10:14 p. m.   Criz                      <Multimedia omitido>\n",
       "2  19/10/2021  10:14 p. m.  Yahir                      <Multimedia omitido>\n",
       "3  19/10/2021  10:15 p. m.   Gera                                     Sadge\n",
       "4  19/10/2021  10:15 p. m.   Gera  Y se vienen cosas peores, dice la biblia"
      ]
     },
     "execution_count": 28,
     "metadata": {},
     "output_type": "execute_result"
    }
   ],
   "source": [
    "df = pd.DataFrame(matches, columns = ['Date', 'Time', 'User', 'Message'])\n",
    "\n",
    "df.head()\n"
   ]
  },
  {
   "cell_type": "code",
   "execution_count": 29,
   "metadata": {},
   "outputs": [],
   "source": [
    "df.to_csv('whats.csv', index=False)"
   ]
  }
 ],
 "metadata": {
  "kernelspec": {
   "display_name": ".venv",
   "language": "python",
   "name": "python3"
  },
  "language_info": {
   "codemirror_mode": {
    "name": "ipython",
    "version": 3
   },
   "file_extension": ".py",
   "mimetype": "text/x-python",
   "name": "python",
   "nbconvert_exporter": "python",
   "pygments_lexer": "ipython3",
   "version": "3.8.10"
  }
 },
 "nbformat": 4,
 "nbformat_minor": 2
}
